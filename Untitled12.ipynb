{
  "nbformat": 4,
  "nbformat_minor": 0,
  "metadata": {
    "colab": {
      "provenance": [],
      "mount_file_id": "1y7cvQEeDPBQHoGLw7OZtT17DWPlCUVrB",
      "authorship_tag": "ABX9TyN/UcMjnR5fbmFkJmg65rze",
      "include_colab_link": true
    },
    "kernelspec": {
      "name": "python3",
      "display_name": "Python 3"
    },
    "language_info": {
      "name": "python"
    }
  },
  "cells": [
    {
      "cell_type": "markdown",
      "metadata": {
        "id": "view-in-github",
        "colab_type": "text"
      },
      "source": [
        "<a href=\"https://colab.research.google.com/github/SXE74810/ASSIGNMENT_5_NNDL/blob/main/Untitled12.ipynb\" target=\"_parent\"><img src=\"https://colab.research.google.com/assets/colab-badge.svg\" alt=\"Open In Colab\"/></a>"
      ]
    },
    {
      "cell_type": "code",
      "execution_count": null,
      "metadata": {
        "id": "YeZZG93F4kDE"
      },
      "outputs": [],
      "source": [
        "import pandas as pd #Basic packages for creating dataframes and loading dataset\n",
        "import numpy as np\n",
        "\n",
        "import matplotlib.pyplot as plt #Package for visualization\n",
        "\n",
        "import re #importing package for Regular expression operations\n",
        "\n",
        "from sklearn.model_selection import train_test_split #Package for splitting the data\n",
        "\n",
        "from sklearn.preprocessing import LabelEncoder #Package for conversion of categorical to Numerical\n",
        "\n",
        "from keras.preprocessing.text import Tokenizer #Tokenization\n",
        "from tensorflow.keras.preprocessing.sequence import pad_sequences #Add zeros or crop based on the length\n",
        "from keras.models import Sequential #Sequential Neural Network\n",
        "from keras.layers import Dense, Embedding, LSTM, SpatialDropout1D #For layers in Neural Network\n",
        "from keras.utils.np_utils import to_categorical"
      ]
    },
    {
      "cell_type": "code",
      "source": [
        "from google.colab import drive\n",
        "drive.mount('/content/gdrive')"
      ],
      "metadata": {
        "colab": {
          "base_uri": "https://localhost:8080/"
        },
        "id": "AlE2anZH585u",
        "outputId": "a0e9c701-0887-4edf-a88b-2b48c33b4aa7"
      },
      "execution_count": null,
      "outputs": [
        {
          "output_type": "stream",
          "name": "stdout",
          "text": [
            "Mounted at /content/gdrive\n"
          ]
        }
      ]
    },
    {
      "cell_type": "code",
      "source": [
        "\n",
        "import pandas as pd\n",
        "\n",
        "# Load the dataset as a Pandas DataFrame\n",
        "dataset = pd.read_csv('/content/gdrive/MyDrive/Sentiment_(1).csv', header=0)\n",
        "\n",
        "# Select only the necessary columns 'text' and 'sentiment'\n",
        "mask = dataset.columns.isin(['text', 'sentiment'])\n",
        "data = dataset.loc[:, mask]\n",
        "\n",
        "# Keeping only the necessary columns"
      ],
      "metadata": {
        "id": "M5dU4yPh8Ylz"
      },
      "execution_count": null,
      "outputs": []
    },
    {
      "cell_type": "code",
      "source": [
        "data['text'] = data['text'].apply(lambda x: x.lower())\n",
        "data['text'] = data['text'].apply((lambda x: re.sub('[^a-zA-z0-9\\s]', '', x)))"
      ],
      "metadata": {
        "colab": {
          "base_uri": "https://localhost:8080/"
        },
        "id": "ysyWD8Af8p_E",
        "outputId": "c10cb8e6-dbd5-49db-8f5a-4349882982a2"
      },
      "execution_count": null,
      "outputs": [
        {
          "output_type": "stream",
          "name": "stderr",
          "text": [
            "<ipython-input-9-cee1da567eb8>:1: SettingWithCopyWarning: \n",
            "A value is trying to be set on a copy of a slice from a DataFrame.\n",
            "Try using .loc[row_indexer,col_indexer] = value instead\n",
            "\n",
            "See the caveats in the documentation: https://pandas.pydata.org/pandas-docs/stable/user_guide/indexing.html#returning-a-view-versus-a-copy\n",
            "  data['text'] = data['text'].apply(lambda x: x.lower())\n",
            "<ipython-input-9-cee1da567eb8>:2: SettingWithCopyWarning: \n",
            "A value is trying to be set on a copy of a slice from a DataFrame.\n",
            "Try using .loc[row_indexer,col_indexer] = value instead\n",
            "\n",
            "See the caveats in the documentation: https://pandas.pydata.org/pandas-docs/stable/user_guide/indexing.html#returning-a-view-versus-a-copy\n",
            "  data['text'] = data['text'].apply((lambda x: re.sub('[^a-zA-z0-9\\s]', '', x)))\n"
          ]
        }
      ]
    },
    {
      "cell_type": "code",
      "source": [
        "for idx, row in data.iterrows():\n",
        "    row[0] = row[0].replace('rt', ' ') #Removing Retweets"
      ],
      "metadata": {
        "id": "oNuQD6KB8ygf"
      },
      "execution_count": null,
      "outputs": []
    },
    {
      "cell_type": "code",
      "source": [
        "max_fatures = 2000\n",
        "tokenizer = Tokenizer(num_words=max_fatures, split=' ') #Maximum words is 2000 to tokenize sentence\n",
        "tokenizer.fit_on_texts(data['text'].values)\n",
        "X = tokenizer.texts_to_sequences(data['text'].values) #taking values to feature matrix\n"
      ],
      "metadata": {
        "id": "i2oR5htt82uh"
      },
      "execution_count": null,
      "outputs": []
    },
    {
      "cell_type": "code",
      "source": [
        "X = pad_sequences(X) #Padding the feature matrix\n",
        "\n",
        "embed_dim = 128 #Dimension of the Embedded layer\n",
        "lstm_out = 196 #Long short-term memory (LSTM) layer neurons"
      ],
      "metadata": {
        "id": "Q8B-IbPV86aB"
      },
      "execution_count": null,
      "outputs": []
    },
    {
      "cell_type": "code",
      "source": [
        "def createmodel():\n",
        "    model = Sequential() #Sequential Neural Network\n",
        "    model.add(Embedding(max_fatures, embed_dim,input_length = X.shape[1])) #input dimension 2000 Neurons, output dimension 128 Neurons\n",
        "    model.add(LSTM(lstm_out, dropout=0.2, recurrent_dropout=0.2)) #Drop out 20%, 196 output Neurons, recurrent dropout 20%\n",
        "    model.add(Dense(3,activation='softmax')) #3 output neurons[positive, Neutral, Negative], softmax as activation\n",
        "    model.compile(loss = 'categorical_crossentropy', optimizer='adam',metrics = ['accuracy']) #Compiling the model\n",
        "    return model\n",
        "# print(model.summary())"
      ],
      "metadata": {
        "id": "mUHGGYdo89yM"
      },
      "execution_count": null,
      "outputs": []
    },
    {
      "cell_type": "code",
      "source": [
        "labelencoder = LabelEncoder() #Applying label Encoding on the label matrix\n",
        "integer_encoded = labelencoder.fit_transform(data['sentiment']) #fitting the model\n",
        "y = to_categorical(integer_encoded)\n",
        "X_train, X_test, Y_train, Y_test = train_test_split(X,y, test_size = 0.33, random_state = 42) #67% training data, 33% test data split\n"
      ],
      "metadata": {
        "id": "bnH6o6ow9CJm"
      },
      "execution_count": null,
      "outputs": []
    },
    {
      "cell_type": "code",
      "source": [
        "batch_size = 32 #Batch size 32\n",
        "model = createmodel() #Function call to Sequential Neural Network\n",
        "model.fit(X_train, Y_train, epochs = 1, batch_size=batch_size, verbose = 2) #verbose the higher, the more messages\n",
        "score,acc = model.evaluate(X_test,Y_test,verbose=2,batch_size=batch_size) #evaluating the model\n",
        "print(score)\n",
        "print(acc)"
      ],
      "metadata": {
        "colab": {
          "base_uri": "https://localhost:8080/"
        },
        "id": "H5bABerk9FgD",
        "outputId": "a857771c-08c8-4e62-cab3-3aa552f2e055"
      },
      "execution_count": null,
      "outputs": [
        {
          "output_type": "stream",
          "name": "stdout",
          "text": [
            "291/291 - 57s - loss: 0.8197 - accuracy: 0.6470 - 57s/epoch - 195ms/step\n",
            "144/144 - 3s - loss: 0.7475 - accuracy: 0.6798 - 3s/epoch - 22ms/step\n",
            "0.7475403547286987\n",
            "0.6797728538513184\n"
          ]
        }
      ]
    },
    {
      "cell_type": "code",
      "source": [
        "print(model.metrics_names) #metrics of the model"
      ],
      "metadata": {
        "colab": {
          "base_uri": "https://localhost:8080/"
        },
        "id": "xvQPcTym9qKV",
        "outputId": "5b72ed08-e43c-4331-f87e-3bbc2a6af918"
      },
      "execution_count": null,
      "outputs": [
        {
          "output_type": "stream",
          "name": "stdout",
          "text": [
            "['loss', 'accuracy']\n"
          ]
        }
      ]
    },
    {
      "cell_type": "code",
      "source": [
        "model.save('sentimentAnalysis.h5') #Saving the model"
      ],
      "metadata": {
        "id": "pH1197P59y4R"
      },
      "execution_count": null,
      "outputs": []
    },
    {
      "cell_type": "code",
      "source": [
        "from keras.models import load_model #Importing the package for importing the saved model\n",
        "model= load_model('sentimentAnalysis.h5') #loading the saved model"
      ],
      "metadata": {
        "id": "MrU11T_890tc"
      },
      "execution_count": null,
      "outputs": []
    },
    {
      "cell_type": "code",
      "source": [
        "print(integer_encoded)\n",
        "print(data['sentiment'])"
      ],
      "metadata": {
        "colab": {
          "base_uri": "https://localhost:8080/"
        },
        "id": "86atmDyr96fM",
        "outputId": "91b957c1-21f3-4605-a0c4-71997e0c51ce"
      },
      "execution_count": null,
      "outputs": [
        {
          "output_type": "stream",
          "name": "stdout",
          "text": [
            "[1 2 1 ... 2 0 2]\n",
            "0         Neutral\n",
            "1        Positive\n",
            "2         Neutral\n",
            "3        Positive\n",
            "4        Positive\n",
            "           ...   \n",
            "13866    Negative\n",
            "13867    Positive\n",
            "13868    Positive\n",
            "13869    Negative\n",
            "13870    Positive\n",
            "Name: sentiment, Length: 13871, dtype: object\n"
          ]
        }
      ]
    },
    {
      "cell_type": "code",
      "source": [
        "# Predicting on the text data\n",
        "sentence = ['A lot of good things are happening. We are respected again throughout the world, and that is a great thing.@realDonaldTrump']\n",
        "sentence = tokenizer.texts_to_sequences(sentence) # Tokenizing the sentence\n",
        "sentence = pad_sequences(sentence, maxlen=28, dtype='int32', value=0) # Padding the sentence\n",
        "sentiment_probs = model.predict(sentence, batch_size=1, verbose=2)[0] # Predicting the sentence text\n",
        "sentiment = np.argmax(sentiment_probs)\n",
        "\n",
        "print(sentiment_probs)\n",
        "if sentiment == 0:\n",
        "    print(\"Neutral\")\n",
        "elif sentiment < 0:\n",
        "    print(\"Negative\")\n",
        "elif sentiment > 0:\n",
        "    print(\"Positive\")\n",
        "else:\n",
        "    print(\"Cannot be determined\")"
      ],
      "metadata": {
        "colab": {
          "base_uri": "https://localhost:8080/"
        },
        "id": "aTPcXi6g9-VJ",
        "outputId": "5190daa2-ba83-4025-c393-606695842485"
      },
      "execution_count": null,
      "outputs": [
        {
          "output_type": "stream",
          "name": "stdout",
          "text": [
            "1/1 - 0s - 334ms/epoch - 334ms/step\n",
            "[0.5343353  0.12970567 0.33595905]\n",
            "Neutral\n"
          ]
        }
      ]
    },
    {
      "cell_type": "code",
      "source": [
        "from keras.wrappers.scikit_learn import KerasClassifier #importing Keras classifier\n",
        "from sklearn.model_selection import GridSearchCV #importing Grid search CV\n",
        "\n",
        "model = KerasClassifier(build_fn=createmodel,verbose=2) #initiating model to test performance by applying multiple hyper parameters\n",
        "batch_size= [10, 20, 40] #hyper parameter batch_size\n",
        "epochs = [1, 2] #hyper parameter no. of epochs\n",
        "param_grid= {'batch_size':batch_size, 'epochs':epochs} #creating dictionary for batch size, no. of epochs\n",
        "grid  = GridSearchCV(estimator=model, param_grid=param_grid) #Applying dictionary with hyper parameters\n",
        "grid_result= grid.fit(X_train,Y_train) #Fitting the model\n",
        "# summarize results\n",
        "print(\"Best: %f using %s\" % (grid_result.best_score_, grid_result.best_params_)) #best score, best hyper parameters"
      ],
      "metadata": {
        "colab": {
          "base_uri": "https://localhost:8080/"
        },
        "id": "0gVvpdsK-EPS",
        "outputId": "c3cb8f31-6ff8-4db7-bf6f-859f1e0d9a12"
      },
      "execution_count": null,
      "outputs": [
        {
          "output_type": "stream",
          "name": "stderr",
          "text": [
            "<ipython-input-21-6c99b49150f4>:4: DeprecationWarning: KerasClassifier is deprecated, use Sci-Keras (https://github.com/adriangb/scikeras) instead. See https://www.adriangb.com/scikeras/stable/migration.html for help migrating.\n",
            "  model = KerasClassifier(build_fn=createmodel,verbose=2) #initiating model to test performance by applying multiple hyper parameters\n"
          ]
        },
        {
          "output_type": "stream",
          "name": "stdout",
          "text": [
            "744/744 - 114s - loss: 0.8252 - accuracy: 0.6455 - 114s/epoch - 153ms/step\n",
            "186/186 - 3s - loss: 0.7516 - accuracy: 0.6746 - 3s/epoch - 15ms/step\n",
            "744/744 - 110s - loss: 0.8208 - accuracy: 0.6426 - 110s/epoch - 148ms/step\n",
            "186/186 - 3s - loss: 0.7723 - accuracy: 0.6719 - 3s/epoch - 15ms/step\n",
            "744/744 - 109s - loss: 0.8271 - accuracy: 0.6415 - 109s/epoch - 147ms/step\n",
            "186/186 - 4s - loss: 0.7850 - accuracy: 0.6762 - 4s/epoch - 21ms/step\n",
            "744/744 - 115s - loss: 0.8194 - accuracy: 0.6516 - 115s/epoch - 155ms/step\n",
            "186/186 - 3s - loss: 0.7793 - accuracy: 0.6615 - 3s/epoch - 15ms/step\n",
            "744/744 - 114s - loss: 0.8231 - accuracy: 0.6471 - 114s/epoch - 153ms/step\n",
            "186/186 - 4s - loss: 0.7955 - accuracy: 0.6459 - 4s/epoch - 22ms/step\n",
            "Epoch 1/2\n",
            "744/744 - 107s - loss: 0.8278 - accuracy: 0.6499 - 107s/epoch - 144ms/step\n",
            "Epoch 2/2\n",
            "744/744 - 104s - loss: 0.6788 - accuracy: 0.7146 - 104s/epoch - 140ms/step\n",
            "186/186 - 5s - loss: 0.7334 - accuracy: 0.6762 - 5s/epoch - 25ms/step\n",
            "Epoch 1/2\n",
            "744/744 - 108s - loss: 0.8212 - accuracy: 0.6536 - 108s/epoch - 145ms/step\n",
            "Epoch 2/2\n",
            "744/744 - 106s - loss: 0.6841 - accuracy: 0.7136 - 106s/epoch - 143ms/step\n",
            "186/186 - 3s - loss: 0.7313 - accuracy: 0.6826 - 3s/epoch - 17ms/step\n",
            "Epoch 1/2\n",
            "744/744 - 114s - loss: 0.8230 - accuracy: 0.6480 - 114s/epoch - 153ms/step\n",
            "Epoch 2/2\n",
            "744/744 - 106s - loss: 0.6697 - accuracy: 0.7193 - 106s/epoch - 142ms/step\n",
            "186/186 - 3s - loss: 0.7402 - accuracy: 0.6875 - 3s/epoch - 14ms/step\n",
            "Epoch 1/2\n",
            "744/744 - 113s - loss: 0.8244 - accuracy: 0.6451 - 113s/epoch - 151ms/step\n",
            "Epoch 2/2\n",
            "744/744 - 113s - loss: 0.6737 - accuracy: 0.7098 - 113s/epoch - 152ms/step\n",
            "186/186 - 4s - loss: 0.7778 - accuracy: 0.6857 - 4s/epoch - 21ms/step\n",
            "Epoch 1/2\n",
            "744/744 - 114s - loss: 0.8268 - accuracy: 0.6386 - 114s/epoch - 153ms/step\n",
            "Epoch 2/2\n",
            "744/744 - 110s - loss: 0.6671 - accuracy: 0.7182 - 110s/epoch - 148ms/step\n",
            "186/186 - 4s - loss: 0.7655 - accuracy: 0.6647 - 4s/epoch - 21ms/step\n",
            "372/372 - 63s - loss: 0.8262 - accuracy: 0.6394 - 63s/epoch - 170ms/step\n",
            "93/93 - 2s - loss: 0.7459 - accuracy: 0.6756 - 2s/epoch - 21ms/step\n",
            "372/372 - 70s - loss: 0.8289 - accuracy: 0.6454 - 70s/epoch - 189ms/step\n",
            "93/93 - 2s - loss: 0.7753 - accuracy: 0.6665 - 2s/epoch - 22ms/step\n",
            "372/372 - 68s - loss: 0.8328 - accuracy: 0.6395 - 68s/epoch - 183ms/step\n",
            "93/93 - 2s - loss: 0.7479 - accuracy: 0.6837 - 2s/epoch - 22ms/step\n",
            "372/372 - 64s - loss: 0.8303 - accuracy: 0.6464 - 64s/epoch - 172ms/step\n",
            "93/93 - 3s - loss: 0.7698 - accuracy: 0.6631 - 3s/epoch - 36ms/step\n",
            "372/372 - 70s - loss: 0.8284 - accuracy: 0.6381 - 70s/epoch - 188ms/step\n",
            "93/93 - 2s - loss: 0.7674 - accuracy: 0.6744 - 2s/epoch - 26ms/step\n",
            "Epoch 1/2\n",
            "372/372 - 66s - loss: 0.8337 - accuracy: 0.6408 - 66s/epoch - 179ms/step\n",
            "Epoch 2/2\n",
            "372/372 - 64s - loss: 0.6804 - accuracy: 0.7073 - 64s/epoch - 172ms/step\n",
            "93/93 - 2s - loss: 0.7255 - accuracy: 0.6859 - 2s/epoch - 21ms/step\n",
            "Epoch 1/2\n",
            "372/372 - 66s - loss: 0.8285 - accuracy: 0.6398 - 66s/epoch - 178ms/step\n",
            "Epoch 2/2\n",
            "372/372 - 60s - loss: 0.6835 - accuracy: 0.7068 - 60s/epoch - 161ms/step\n",
            "93/93 - 2s - loss: 0.7508 - accuracy: 0.6815 - 2s/epoch - 21ms/step\n",
            "Epoch 1/2\n",
            "372/372 - 65s - loss: 0.8286 - accuracy: 0.6371 - 65s/epoch - 175ms/step\n",
            "Epoch 2/2\n",
            "372/372 - 62s - loss: 0.6779 - accuracy: 0.7128 - 62s/epoch - 167ms/step\n",
            "93/93 - 2s - loss: 0.7556 - accuracy: 0.6654 - 2s/epoch - 23ms/step\n",
            "Epoch 1/2\n",
            "372/372 - 68s - loss: 0.8350 - accuracy: 0.6429 - 68s/epoch - 183ms/step\n",
            "Epoch 2/2\n",
            "372/372 - 66s - loss: 0.6741 - accuracy: 0.7127 - 66s/epoch - 177ms/step\n",
            "93/93 - 2s - loss: 0.7563 - accuracy: 0.6755 - 2s/epoch - 23ms/step\n",
            "Epoch 1/2\n",
            "372/372 - 66s - loss: 0.8232 - accuracy: 0.6460 - 66s/epoch - 177ms/step\n",
            "Epoch 2/2\n",
            "372/372 - 64s - loss: 0.6718 - accuracy: 0.7114 - 64s/epoch - 173ms/step\n",
            "93/93 - 2s - loss: 0.7840 - accuracy: 0.6685 - 2s/epoch - 22ms/step\n",
            "186/186 - 43s - loss: 0.8528 - accuracy: 0.6336 - 43s/epoch - 230ms/step\n",
            "47/47 - 2s - loss: 0.7856 - accuracy: 0.6659 - 2s/epoch - 32ms/step\n",
            "186/186 - 45s - loss: 0.8423 - accuracy: 0.6363 - 45s/epoch - 241ms/step\n",
            "47/47 - 2s - loss: 0.7812 - accuracy: 0.6520 - 2s/epoch - 33ms/step\n",
            "186/186 - 44s - loss: 0.8467 - accuracy: 0.6295 - 44s/epoch - 235ms/step\n",
            "47/47 - 1s - loss: 0.7668 - accuracy: 0.6810 - 1s/epoch - 32ms/step\n",
            "186/186 - 44s - loss: 0.8435 - accuracy: 0.6383 - 44s/epoch - 234ms/step\n",
            "47/47 - 2s - loss: 0.7485 - accuracy: 0.6749 - 2s/epoch - 33ms/step\n",
            "186/186 - 45s - loss: 0.8382 - accuracy: 0.6381 - 45s/epoch - 244ms/step\n",
            "47/47 - 3s - loss: 0.7745 - accuracy: 0.6647 - 3s/epoch - 58ms/step\n",
            "Epoch 1/2\n",
            "186/186 - 46s - loss: 0.8449 - accuracy: 0.6373 - 46s/epoch - 250ms/step\n",
            "Epoch 2/2\n",
            "186/186 - 42s - loss: 0.6816 - accuracy: 0.7135 - 42s/epoch - 226ms/step\n",
            "47/47 - 2s - loss: 0.7245 - accuracy: 0.6837 - 2s/epoch - 33ms/step\n",
            "Epoch 1/2\n",
            "186/186 - 43s - loss: 0.8325 - accuracy: 0.6381 - 43s/epoch - 234ms/step\n",
            "Epoch 2/2\n",
            "186/186 - 42s - loss: 0.6917 - accuracy: 0.7074 - 42s/epoch - 224ms/step\n",
            "47/47 - 2s - loss: 0.7317 - accuracy: 0.6837 - 2s/epoch - 32ms/step\n",
            "Epoch 1/2\n",
            "186/186 - 47s - loss: 0.8465 - accuracy: 0.6359 - 47s/epoch - 254ms/step\n",
            "Epoch 2/2\n",
            "186/186 - 39s - loss: 0.6911 - accuracy: 0.7074 - 39s/epoch - 212ms/step\n",
            "47/47 - 3s - loss: 0.7488 - accuracy: 0.6864 - 3s/epoch - 53ms/step\n",
            "Epoch 1/2\n",
            "186/186 - 45s - loss: 0.8496 - accuracy: 0.6312 - 45s/epoch - 241ms/step\n",
            "Epoch 2/2\n",
            "186/186 - 39s - loss: 0.6956 - accuracy: 0.7040 - 39s/epoch - 210ms/step\n",
            "47/47 - 3s - loss: 0.7378 - accuracy: 0.6781 - 3s/epoch - 55ms/step\n",
            "Epoch 1/2\n",
            "186/186 - 43s - loss: 0.8511 - accuracy: 0.6312 - 43s/epoch - 231ms/step\n",
            "Epoch 2/2\n",
            "186/186 - 38s - loss: 0.6834 - accuracy: 0.7108 - 38s/epoch - 207ms/step\n",
            "47/47 - 2s - loss: 0.7655 - accuracy: 0.6701 - 2s/epoch - 35ms/step\n",
            "Epoch 1/2\n",
            "233/233 - 53s - loss: 0.8257 - accuracy: 0.6449 - 53s/epoch - 226ms/step\n",
            "Epoch 2/2\n",
            "233/233 - 50s - loss: 0.6795 - accuracy: 0.7095 - 50s/epoch - 214ms/step\n",
            "Best: 0.680403 using {'batch_size': 40, 'epochs': 2}\n"
          ]
        }
      ]
    }
  ]
}